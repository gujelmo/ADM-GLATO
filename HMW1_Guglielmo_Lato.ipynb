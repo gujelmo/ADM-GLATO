{
 "cells": [
  {
   "cell_type": "code",
   "execution_count": 1,
   "metadata": {},
   "outputs": [
    {
     "name": "stdout",
     "output_type": "stream",
     "text": [
      "Hello, World!\n"
     ]
    }
   ],
   "source": [
    "#Say \"Hello, World!\" With Python\n",
    "\n",
    "print(\"Hello, World!\")"
   ]
  },
  {
   "cell_type": "code",
   "execution_count": null,
   "metadata": {},
   "outputs": [],
   "source": [
    "#Python If-Else\n",
    "\n",
    "if n == 1:\n",
    "    print('Weird')\n",
    "elif n%2==0:\n",
    "    if n>=2 and n<=5:\n",
    "        print('Not Weird')\n",
    "    elif n>=6 and n<=20:\n",
    "        print('Weird')\n",
    "    else: print('Not Weird')\n",
    "else: print('Weird')"
   ]
  },
  {
   "cell_type": "code",
   "execution_count": null,
   "metadata": {},
   "outputs": [],
   "source": [
    "#Arithmetic Operators\n",
    "\n",
    "    print(a+b)\n",
    "    print(a-b)\n",
    "    print(a*b)"
   ]
  },
  {
   "cell_type": "code",
   "execution_count": null,
   "metadata": {},
   "outputs": [],
   "source": [
    "#Python: Division\n",
    "    c = a/b\n",
    "    d = a/b\n",
    "\n",
    "    print(int(c))\n",
    "    print(d)\n"
   ]
  },
  {
   "cell_type": "code",
   "execution_count": null,
   "metadata": {},
   "outputs": [],
   "source": [
    " #Loops\n",
    "    i=0\n",
    "    while i < n:\n",
    "        print(i*i)\n",
    "        i+=1\n"
   ]
  },
  {
   "cell_type": "code",
   "execution_count": null,
   "metadata": {},
   "outputs": [],
   "source": [
    "#Write a function\n",
    "def is_leap(year):\n",
    "    leap = False\n",
    "    if year%4 == 0:\n",
    "        leap=True\n",
    "        if year%100 == 0:\n",
    "            leap=False            \n",
    "            if year%400 == 0:\n",
    "                leap=True                       \n",
    "    else: leap=False    \n",
    "    return leap\n"
   ]
  },
  {
   "cell_type": "code",
   "execution_count": null,
   "metadata": {},
   "outputs": [],
   "source": [
    "#Print Function\n",
    "i=1\n",
    "while(i<=n):   \n",
    "    print(i, end='')\n",
    "    i+=1\n"
   ]
  },
  {
   "cell_type": "code",
   "execution_count": null,
   "metadata": {},
   "outputs": [],
   "source": [
    "#List Comprehensions\n",
    "lista = [[i,j,k] for i in range(x+1)  for j in range(y+1) for k in range(z+1) if i+j+k != n]\n",
    "print(lista)\n",
    "\n"
   ]
  },
  {
   "cell_type": "code",
   "execution_count": null,
   "metadata": {},
   "outputs": [],
   "source": [
    "#Find the Runner-Up Score!\n",
    "\n",
    "x = set(arr)\n",
    "y=list(x)\n",
    "y.sort()\n",
    "print(y[-2])\n"
   ]
  },
  {
   "cell_type": "code",
   "execution_count": null,
   "metadata": {},
   "outputs": [],
   "source": [
    "#Finding the percentage\n",
    "\n",
    "def mean(lista):\n",
    "    return float(sum(lista))/len(lista)\n",
    "print('{0:.2f}'.format(mean(student_marks[query_name])))"
   ]
  },
  {
   "cell_type": "code",
   "execution_count": null,
   "metadata": {},
   "outputs": [],
   "source": [
    "#Tuples\n",
    "\n",
    "a= tuple(integer_list)\n",
    "print (hash(a))"
   ]
  },
  {
   "cell_type": "code",
   "execution_count": null,
   "metadata": {},
   "outputs": [],
   "source": [
    "#sWAP cASE\n",
    "\n",
    "def swap_case(s):\n",
    "    x=''\n",
    "    for i in s:\n",
    "        if i.isupper():\n",
    "            x=x+i.lower()\n",
    "        else: \n",
    "            x=x+i.upper()        \n",
    "    return x"
   ]
  },
  {
   "cell_type": "code",
   "execution_count": null,
   "metadata": {},
   "outputs": [],
   "source": [
    "#String Split and Join\n",
    "def split_and_join(line):\n",
    "    \n",
    "    line=line.split(\" \")\n",
    "    line=\"-\".join(line)\n",
    "    return line\n"
   ]
  },
  {
   "cell_type": "code",
   "execution_count": null,
   "metadata": {},
   "outputs": [],
   "source": [
    "#What's Your Name?\n",
    "\n",
    "def print_full_name(a, b):\n",
    "    print(\"Hello\",a, b+ \"! You just delved into python.\")"
   ]
  },
  {
   "cell_type": "code",
   "execution_count": null,
   "metadata": {},
   "outputs": [],
   "source": [
    "#Mutations\n",
    "\n",
    "def mutate_string(string, position, character):\n",
    "    l=string[:position]+character+string[position+1:]    \n",
    "    return  l"
   ]
  },
  {
   "cell_type": "code",
   "execution_count": null,
   "metadata": {},
   "outputs": [],
   "source": [
    "#Find a string\n",
    "\n",
    "def count_substring(string, sub_string):\n",
    "    x=0\n",
    "    for i in range(0, len(string)-len(sub_string)+1):     \n",
    "         if string[i:len(sub_string)+i] == sub_string:\n",
    "            x+=1         \n",
    "    return x\n"
   ]
  },
  {
   "cell_type": "code",
   "execution_count": null,
   "metadata": {},
   "outputs": [],
   "source": [
    "#String Validators\n",
    "q= False\n",
    "w= False\n",
    "e = False\n",
    "r = False\n",
    "t = False\n",
    "\n",
    "for i in range (0,len(s)):\n",
    "    if s[i].isalnum():\n",
    "        q=True\n",
    "    if s[i].isalpha():\n",
    "        w=True        \n",
    "    if s[i].islower():\n",
    "        e=True\n",
    "    if s[i].isdigit():\n",
    "        r=True\n",
    "    if s[i].isupper():\n",
    "        t=True\n",
    "\n",
    "print(q)\n",
    "print(w)\n",
    "print(r)\n",
    "print(e)\n",
    "print(t)\n"
   ]
  },
  {
   "cell_type": "code",
   "execution_count": null,
   "metadata": {},
   "outputs": [],
   "source": [
    "#Text Wrap\n",
    "\n",
    "import textwrap\n",
    "\n",
    "def wrap(string, max_width):\n",
    "    x=int((len(string)/max_width))    \n",
    "    a=0\n",
    "    for i in range(a,x+1):\n",
    "        res=print(string[a:a+max_width])\n",
    "        a+=max_width\n",
    "    return res\n"
   ]
  },
  {
   "cell_type": "code",
   "execution_count": null,
   "metadata": {},
   "outputs": [],
   "source": [
    "#Capitalize!\n",
    "\n",
    "def solve(s):\n",
    "    n=''\n",
    "    for i in range(len(s)):\n",
    "        if i==0:\n",
    "            n=n+s[i].upper()\n",
    "        elif s[i]==' ':\n",
    "            n=n+' '\n",
    "        elif s[i-1]==' ':\n",
    "            n=n+s[i].upper()  \n",
    "        else:\n",
    "            n=n+s[i]          \n",
    "    return n\n"
   ]
  },
  {
   "cell_type": "code",
   "execution_count": null,
   "metadata": {},
   "outputs": [],
   "source": [
    "#Introduction to Sets\n",
    "\n",
    "def average(array):\n",
    "    return sum(set(array))/len(set(array))"
   ]
  },
  {
   "cell_type": "code",
   "execution_count": null,
   "metadata": {},
   "outputs": [],
   "source": [
    "#Symmetric Difference\n",
    "\n",
    "lenset_a = input()\n",
    "set_a = {int(c) for c in input().split(' ')}\n",
    "lenset_b = input()\n",
    "set_b = {int(c) for c in input().split(' ')}\n",
    "\n",
    "diff = list(set_a ^ set_b)\n",
    "diff.sort()\n",
    "\n",
    "for ele in diff:\n",
    "    print(ele)"
   ]
  },
  {
   "cell_type": "code",
   "execution_count": null,
   "metadata": {},
   "outputs": [],
   "source": [
    "#No idea!\n",
    "\n",
    "n,m = input().split()\n",
    "arr = [int(x) for x in input().split()]\n",
    "A = set([int(y) for y in input().split()])\n",
    "B = set([int(z) for z in input().split()])\n",
    "count = [0 + 1 if x in A else 0-1 if x in B else 0 + 0 for x in arr]\n",
    "print(sum(count))"
   ]
  },
  {
   "cell_type": "code",
   "execution_count": null,
   "metadata": {},
   "outputs": [],
   "source": [
    "#Set .add()\n",
    "\n",
    "n= input()\n",
    "a=[]\n",
    "\n",
    "for i in range(int(n)):\n",
    "    a.append(input())\n",
    "\n",
    "print (len(set(a)))"
   ]
  },
  {
   "cell_type": "code",
   "execution_count": null,
   "metadata": {},
   "outputs": [],
   "source": [
    "#Set .discard(), .remove() & .pop()\n",
    "n = int(input())\n",
    "s = set(map(int, input().split())) \n",
    "\n",
    "for i in range(int(input())):\n",
    "    eval('s.{0}({1})'.format(*input().split()+['']))\n",
    "\n",
    "print(sum(s))"
   ]
  },
  {
   "cell_type": "code",
   "execution_count": null,
   "metadata": {},
   "outputs": [],
   "source": [
    "#Set .union() Operation\n",
    "\n",
    "print(input() == 0 or len(set(input().split()).union(input() == 0 or input().split())))\n"
   ]
  },
  {
   "cell_type": "code",
   "execution_count": null,
   "metadata": {},
   "outputs": [],
   "source": [
    "#Set .intersection() Operation\n",
    "\n",
    "x=int(input())\n",
    "s1=set(map(int,input().split()))\n",
    "y=int(input())\n",
    "s2=set(map(int,input().split()))\n",
    "print(len(s1.intersection(s2)))"
   ]
  },
  {
   "cell_type": "code",
   "execution_count": null,
   "metadata": {},
   "outputs": [],
   "source": [
    "# Set .difference() Operation\n",
    "\n",
    "n1 = int(input())\n",
    "set_1 = set(map(int,input().split()))\n",
    "n2 = int(input())\n",
    "set_2 = set(map(int,input().split()))\n",
    "print(len(set_1-set_2))\n"
   ]
  },
  {
   "cell_type": "code",
   "execution_count": null,
   "metadata": {},
   "outputs": [],
   "source": [
    "#Set .symmetric_difference() Operation\n",
    "a,b = [set(input().split()) for _ in range(2) for _ in input().split()]\n",
    "print(len(a ^ b))"
   ]
  },
  {
   "cell_type": "code",
   "execution_count": null,
   "metadata": {},
   "outputs": [],
   "source": [
    "#Set Mutations\n",
    "\n",
    "def handler(a):\n",
    "    command = input().split()[0]\n",
    "    new_set = set(map(int, input().split()))\n",
    "    if command == 'intersection_update':\n",
    "        a.intersection_update(new_set)\n",
    "    if command == 'update':\n",
    "        a.update(new_set)\n",
    "    if command == 'symmetric_difference_update':\n",
    "        a.symmetric_difference_update(new_set)\n",
    "    if command == 'difference_update':\n",
    "        a.difference_update(new_set)\n",
    "\n",
    "\n",
    "_, a = input(), set(map(int, input().split()))\n",
    "for i in range(int(input())):\n",
    "    handler(a)\n",
    "print(sum(a))\n"
   ]
  },
  {
   "cell_type": "code",
   "execution_count": null,
   "metadata": {},
   "outputs": [],
   "source": [
    "#Detect Floating Point Number\n",
    "import re\n",
    "for _ in range(int(input())):\n",
    "    print (bool(re.match(r'^[-+]?[0-9]*\\.[0-9]+$', input())))"
   ]
  },
  {
   "cell_type": "code",
   "execution_count": null,
   "metadata": {},
   "outputs": [],
   "source": [
    "#Validating phone numbers\n",
    "import re\n",
    "\n",
    "n = int(input())\n",
    "pattern = re.compile(r'^[7-9]\\d{9}$')\n",
    "numbers = [input() for _ in range(n)]\n",
    "\n",
    "for number in numbers:\n",
    "    if pattern.match(number):\n",
    "        print('YES')\n",
    "    else:\n",
    "        print('NO')"
   ]
  },
  {
   "cell_type": "code",
   "execution_count": null,
   "metadata": {},
   "outputs": [],
   "source": [
    "#Validating Credit Card Numbers\n",
    "\n",
    "import re\n",
    "for _ in range(int(input())):\n",
    "    s = input()\n",
    "\n",
    "    if re.match(r\"^[456]([\\d]{15}|[\\d]{3}(-[\\d]{4}){3})$\", s) and not re.search(r\"([\\d])\\1\\1\\1\", s.replace(\"-\", \"\")):\n",
    "        print(\"Valid\")\n",
    "    else:\n",
    "        print(\"Invalid\")\n",
    "        "
   ]
  },
  {
   "cell_type": "code",
   "execution_count": null,
   "metadata": {},
   "outputs": [],
   "source": [
    "#Arrays\n",
    "def arrays(arr):\n",
    "    a=numpy.array(arr,float)\n",
    "    return a[::-1]"
   ]
  },
  {
   "cell_type": "code",
   "execution_count": null,
   "metadata": {},
   "outputs": [],
   "source": [
    "#Shape and Reshape\n",
    "a=input().split()\n",
    "x = [int(i) for i in a]\n",
    "\n",
    "my_array = np.array(x)\n",
    "print (np.reshape(my_array,(3,3)))"
   ]
  },
  {
   "cell_type": "code",
   "execution_count": null,
   "metadata": {},
   "outputs": [],
   "source": [
    "#Array Mathematics\n",
    "import numpy as np\n",
    "n, m = map(int, input().split())\n",
    "a, b = (np.array([input().split() for _ in range(n)], dtype=int) for _ in range(2))\n",
    "print(a+b, a-b, a*b, a//b, a%b, a**b, sep='\\n')\n"
   ]
  },
  {
   "cell_type": "code",
   "execution_count": null,
   "metadata": {},
   "outputs": [],
   "source": [
    "#Transpose and Flatten\n",
    "import numpy as np\n",
    "\n",
    "a, b = map(int,input().split())\n",
    "arrA = np.array([input().split() for _ in range(a)],int)\n",
    "\n",
    "print(np.transpose(arrA))\n",
    "print(arrA.flatten())\n",
    "\n",
    "\n"
   ]
  },
  {
   "cell_type": "code",
   "execution_count": null,
   "metadata": {},
   "outputs": [],
   "source": [
    "#Concatenate\n",
    "import numpy as np\n",
    "a, b, c = map(int,input().split())\n",
    "arrA = np.array([input().split() for _ in range(a)],int)\n",
    "arrB = np.array([input().split() for _ in range(b)],int)\n",
    "print(np.concatenate((arrA, arrB), axis = 0))"
   ]
  },
  {
   "cell_type": "code",
   "execution_count": null,
   "metadata": {},
   "outputs": [],
   "source": [
    "#Zeros and Ones\n",
    "\n",
    "\n",
    "import numpy\n",
    "\n",
    "x = tuple(map(int,input().split()))\n",
    "print(numpy.zeros(x, dtype = numpy.int))\n",
    "print(numpy.ones(x, dtype = numpy.int))\n",
    "    "
   ]
  },
  {
   "cell_type": "code",
   "execution_count": null,
   "metadata": {},
   "outputs": [],
   "source": [
    "#Eye and Identity\n",
    "import numpy\n",
    "\n",
    "print(str(numpy.eye(*map(int,input().split()))).replace('1',' 1').replace('0',' 0'))\n"
   ]
  },
  {
   "cell_type": "code",
   "execution_count": null,
   "metadata": {},
   "outputs": [],
   "source": [
    "#Sum and Prod\n",
    "import numpy\n",
    "\n",
    "N, M = map(int, input().split())\n",
    "A = numpy.array([input().split() for _ in range(N)],int)\n",
    "print(numpy.prod(numpy.sum(A, axis=0), axis=0))"
   ]
  },
  {
   "cell_type": "code",
   "execution_count": null,
   "metadata": {},
   "outputs": [],
   "source": [
    "#Map and Lambda Function\n",
    "cube = lambda x: x*x*x # complete the lambda function \n",
    "def fibonacci(n):\n",
    "     # return a list of fibonacci numbers\n",
    "    lis = [0,1]\n",
    "    for i in range(2,n):\n",
    "        lis.append(lis[i-2] + lis[i-1])\n",
    "    return(lis[0:n])"
   ]
  },
  {
   "cell_type": "code",
   "execution_count": null,
   "metadata": {},
   "outputs": [],
   "source": [
    "#########################################################\n",
    "########################################################\n",
    "#########     SECOND          PART     #################\n",
    "#########################################################\n",
    "########################################################"
   ]
  },
  {
   "cell_type": "code",
   "execution_count": null,
   "metadata": {},
   "outputs": [],
   "source": [
    "#Solve Me First\n",
    "\n",
    "def solveMeFirst(a,b):\n",
    "\t# Hint: Type return a+b below\n",
    "    somma = a + b\n",
    "    return somma\n",
    "\n",
    "\n",
    "num1 = int(input())\n",
    "num2 = int(input())\n",
    "res = solveMeFirst(num1,num2)\n",
    "print(res)\n"
   ]
  },
  {
   "cell_type": "code",
   "execution_count": null,
   "metadata": {},
   "outputs": [],
   "source": [
    "#Birthday Cake Candles\n",
    "\n",
    "# Complete the birthdayCakeCandles function below.\n",
    "def birthdayCakeCandles(ar):\n",
    "        m=max(ar) \n",
    "        return list(ar).count(m)"
   ]
  },
  {
   "cell_type": "code",
   "execution_count": null,
   "metadata": {},
   "outputs": [],
   "source": [
    "#KANGAROO\n",
    "\n",
    "# Complete the kangaroo function below.\n",
    "def kangaroo(x1, v1, x2, v2):\n",
    "    if (x1<x2 and v1<=v2):\n",
    "        return 'NO'\n",
    "    else:\n",
    "        k1=x1+v1\n",
    "        k2=x2+v2\n",
    "        while(True):\n",
    "            if k1==k2:\n",
    "                return 'YES'\n",
    "            elif k1<k2:\n",
    "                k1=k1+v1\n",
    "                k2=k2+v2\n",
    "            else:\n",
    "                return 'NO'\n",
    "        "
   ]
  },
  {
   "cell_type": "code",
   "execution_count": null,
   "metadata": {},
   "outputs": [],
   "source": [
    "#Viral Advertising\n",
    "\n",
    "# Complete the viralAdvertising function below.\n",
    "def viralAdvertising(n):        \n",
    "    x = 5    #input data\n",
    "    y = 0    #\n",
    "    for i in range(n):\n",
    "        y = y + math.floor(x/2) \n",
    "        x = math.floor(x/2)*3\n",
    "    return y  "
   ]
  },
  {
   "cell_type": "code",
   "execution_count": null,
   "metadata": {},
   "outputs": [],
   "source": [
    "#Insertion Sort - Part 1\n",
    "# Complete the insertionSort1 function below.\n",
    "def insertionSort1(n, arr):\n",
    "    tg = arr[-1]\n",
    "    i = n-2\n",
    "    \n",
    "    while (tg < arr[i]) and (i >= 0):\n",
    "        arr[i+1] = arr[i]\n",
    "        print(' '.join(map(str, arr)))\n",
    "        i = i-1\n",
    "        \n",
    "    arr[i+1] = tg\n",
    "    print(' '.join(map(str, arr)))\n"
   ]
  },
  {
   "cell_type": "code",
   "execution_count": null,
   "metadata": {},
   "outputs": [],
   "source": [
    "#Insertion Sort - Part 2\n",
    "\n",
    "# Complete the insertionSort2 function below.\n",
    "def insertionSort2(n, arr):\n",
    "    \n",
    "    for i in range(1,len(arr)):\n",
    "        key=arr[i]\n",
    "        j=i-1\n",
    "        while j>=0 and arr[j]>key:\n",
    "            arr[j+1]=arr[j]\n",
    "            j=j-1\n",
    "        arr[j+1]=key\n",
    "        print(*arr)\n"
   ]
  }
 ],
 "metadata": {
  "kernelspec": {
   "display_name": "Python 3",
   "language": "python",
   "name": "python3"
  },
  "language_info": {
   "codemirror_mode": {
    "name": "ipython",
    "version": 3
   },
   "file_extension": ".py",
   "mimetype": "text/x-python",
   "name": "python",
   "nbconvert_exporter": "python",
   "pygments_lexer": "ipython3",
   "version": "3.7.3"
  }
 },
 "nbformat": 4,
 "nbformat_minor": 2
}
